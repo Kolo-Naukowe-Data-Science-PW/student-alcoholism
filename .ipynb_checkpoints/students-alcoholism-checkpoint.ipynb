{
 "cells": [
  {
   "cell_type": "code",
   "execution_count": 1,
   "metadata": {},
   "outputs": [],
   "source": [
    "import pandas as pd\n",
    "import numpy as np"
   ]
  },
  {
   "cell_type": "markdown",
   "metadata": {},
   "source": [
    "# https://www.kaggle.com/uciml/student-alcohol-consumption \n",
    "\n",
    "#### Celem naszej analizy jest ustalenie jak często uczniowie spożywają alkohol w dni szkolne - $Dalc$ oraz w weekendy - $Walc$. Na stronie ze zbiorem danych znajduje się dokładny opis parametrów. Jako, że jest to spotkanie związane z kursem Machine Learning by Stanford University, użyte metody uczenia maszynowego nie mają na celu stworzyć najlepszego modelu, lecz zaprezentować praktyczną aplikację poznanych narzędzi - w tym przypadku model regresji liniowej."
   ]
  },
  {
   "cell_type": "markdown",
   "metadata": {},
   "source": [
    "# Wczytanie danych z student-mat.csv"
   ]
  },
  {
   "cell_type": "code",
   "execution_count": 14,
   "metadata": {},
   "outputs": [],
   "source": [
    "table = pd.read_csv(\"student-mat.csv\")\n",
    "table = table.sample(table.shape[0])\n",
    "table = table.drop(columns=[\"school\",\"Mjob\",\"Fjob\",\"reason\",\"guardian\"])"
   ]
  },
  {
   "cell_type": "code",
   "execution_count": 15,
   "metadata": {},
   "outputs": [
    {
     "data": {
      "text/plain": [
       "['sex',\n",
       " 'age',\n",
       " 'address',\n",
       " 'famsize',\n",
       " 'Pstatus',\n",
       " 'Medu',\n",
       " 'Fedu',\n",
       " 'traveltime',\n",
       " 'studytime',\n",
       " 'failures',\n",
       " 'schoolsup',\n",
       " 'famsup',\n",
       " 'paid',\n",
       " 'activities',\n",
       " 'nursery',\n",
       " 'higher',\n",
       " 'internet',\n",
       " 'romantic',\n",
       " 'famrel',\n",
       " 'freetime',\n",
       " 'goout',\n",
       " 'Dalc',\n",
       " 'Walc',\n",
       " 'health',\n",
       " 'absences',\n",
       " 'G1',\n",
       " 'G2',\n",
       " 'G3']"
      ]
     },
     "execution_count": 15,
     "metadata": {},
     "output_type": "execute_result"
    }
   ],
   "source": [
    "list(table)"
   ]
  },
  {
   "cell_type": "markdown",
   "metadata": {},
   "source": [
    "# Faktoryzacja danych w postaci tekstu"
   ]
  },
  {
   "cell_type": "code",
   "execution_count": 12,
   "metadata": {},
   "outputs": [],
   "source": [
    "def stringToInt(df,name):\n",
    "    df.loc[:,name] = pd.factorize(df.loc[:,name])[0]\n",
    "\n",
    "namesToDrop = [\"sex\",\"address\",\"famsize\",\"Pstatus\",\"schoolsup\",\"famsup\",\n",
    "               \"paid\",\"activities\",\"nursery\",\"higher\",\"romantic\",\"internet\"]\n",
    "\n",
    "for name in namesToDrop:\n",
    "    stringToInt(table, name)"
   ]
  },
  {
   "cell_type": "markdown",
   "metadata": {},
   "source": [
    "# Podział na $y_{Walc}$, $y_{Dalc}$ i $X$ "
   ]
  },
  {
   "cell_type": "code",
   "execution_count": 4,
   "metadata": {},
   "outputs": [],
   "source": [
    "Dalc = np.array(table.loc[:,\"Dalc\"])\n",
    "Walc = np.array(table.loc[:,\"Walc\"])\n",
    "X = table.drop(columns = [\"Dalc\",\"Walc\"]).dropna()\n",
    "X = np.array(pd.concat([X.assign(x0=1).loc[:,\"x0\"], X], axis = 1))"
   ]
  },
  {
   "cell_type": "code",
   "execution_count": 5,
   "metadata": {},
   "outputs": [],
   "source": [
    "Xtrain = X[0:350,:]\n",
    "Walctrain = Walc[0:350]\n",
    "Dalctrain = Dalc[0:350]"
   ]
  },
  {
   "cell_type": "code",
   "execution_count": 6,
   "metadata": {},
   "outputs": [],
   "source": [
    "Xtest = X[350:395,:]\n",
    "Walctest = Walc[350:395]\n",
    "Dalctest = Dalc[350:395]"
   ]
  },
  {
   "cell_type": "markdown",
   "metadata": {},
   "source": [
    "# $$ \\Theta_{Walc} = (X^TX)^{-1}X^Ty$$"
   ]
  },
  {
   "cell_type": "code",
   "execution_count": 7,
   "metadata": {},
   "outputs": [],
   "source": [
    "ThetaWalc = np.matmul(np.matmul(np.linalg.pinv(np.matmul(Xtrain.transpose(),Xtrain)),Xtrain.transpose()),Walctrain)"
   ]
  },
  {
   "cell_type": "code",
   "execution_count": 8,
   "metadata": {},
   "outputs": [
    {
     "data": {
      "text/plain": [
       "0.4222222222222222"
      ]
     },
     "execution_count": 8,
     "metadata": {},
     "output_type": "execute_result"
    }
   ],
   "source": [
    "sum(np.around(np.matmul(Xtest,ThetaWalc)) == Walctest)/Walctest.size"
   ]
  },
  {
   "cell_type": "markdown",
   "metadata": {},
   "source": [
    "# $$ \\Theta_{Dalc} = (X^TX)^{-1}X^Ty$$"
   ]
  },
  {
   "cell_type": "code",
   "execution_count": 9,
   "metadata": {},
   "outputs": [],
   "source": [
    "ThetaDalc = np.matmul(np.matmul(np.linalg.pinv(np.matmul(Xtrain.transpose(),Xtrain)),Xtrain.transpose()),Dalctrain)"
   ]
  },
  {
   "cell_type": "code",
   "execution_count": 10,
   "metadata": {},
   "outputs": [
    {
     "data": {
      "text/plain": [
       "0.6222222222222222"
      ]
     },
     "execution_count": 10,
     "metadata": {},
     "output_type": "execute_result"
    }
   ],
   "source": [
    "sum(np.around(np.matmul(Xtest,ThetaDalc)) == Dalctest)/Dalctest.size"
   ]
  },
  {
   "cell_type": "code",
   "execution_count": null,
   "metadata": {},
   "outputs": [],
   "source": []
  },
  {
   "cell_type": "code",
   "execution_count": null,
   "metadata": {},
   "outputs": [],
   "source": []
  }
 ],
 "metadata": {
  "kernelspec": {
   "display_name": "Python 3",
   "language": "python",
   "name": "python3"
  },
  "language_info": {
   "codemirror_mode": {
    "name": "ipython",
    "version": 3
   },
   "file_extension": ".py",
   "mimetype": "text/x-python",
   "name": "python",
   "nbconvert_exporter": "python",
   "pygments_lexer": "ipython3",
   "version": "3.6.4"
  }
 },
 "nbformat": 4,
 "nbformat_minor": 2
}
